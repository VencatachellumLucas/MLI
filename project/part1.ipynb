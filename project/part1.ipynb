{
 "cells": [
  {
   "cell_type": "markdown",
   "source": [
    "# Part 1: Etude de la longueur des cheveux\n",
    "## Step1:\n",
    "The relationship between X and Y: $P(X|Y) = {P(X)P(Y|X) \\over P(Y)}$\n",
    "\n",
    "The conditional probability law:\n",
    " - on X: $P(X|Y)={P(X∩Y) \\over P(Y)}$\n",
    "  - on Y: $P(Y|X)={P(Y∩X) \\over P(X)}$"
   ],
   "metadata": {
    "cell_id": "1d7a5714f4ce4c5cbba87bd084243183",
    "collapsed": false,
    "deepnote_cell_type": "markdown"
   }
  },
  {
   "cell_type": "markdown",
   "source": [],
   "metadata": {
    "collapsed": false
   }
  },
  {
   "cell_type": "markdown",
   "source": [],
   "metadata": {
    "collapsed": false
   }
  },
  {
   "cell_type": "code",
   "execution_count": 74,
   "outputs": [],
   "source": [
    "import numpy as np\n",
    "from matplotlib import pyplot as plt"
   ],
   "metadata": {
    "collapsed": false
   }
  },
  {
   "cell_type": "code",
   "source": [
    "N = 5\n",
    "X = np.random.randint(0, 2, N)\n",
    "xM = sum(1 if i == 0 else 0 for i in X)\n",
    "xW = sum(1 if i == 1 else 0 for i in X)"
   ],
   "metadata": {
    "cell_id": "b32d2d4613e2470ebb58c7f5377c4897",
    "collapsed": false,
    "source_hash": "2e010e40",
    "execution_start": 1667904694612,
    "execution_millis": 1,
    "deepnote_to_be_reexecuted": false,
    "deepnote_cell_type": "code"
   },
   "outputs": [],
   "execution_count": 79
  },
  {
   "cell_type": "code",
   "execution_count": 80,
   "outputs": [
    {
     "data": {
      "text/plain": "<Figure size 432x288 with 1 Axes>",
      "image/png": "[encoded data removed]"
     },
     "metadata": {
      "needs_background": "light"
     },
     "output_type": "display_data"
    }
   ],
   "source": [
    "plt.title(\"Unifom discrete distribution of the population\")\n",
    "plt.xlabel(\"Genre\")\n",
    "plt.ylabel(\"Population\")\n",
    "plt.bar(['Man', 'Woman'], [xM, xW])\n",
    "plt.show()"
   ],
   "metadata": {
    "collapsed": false
   }
  },
  {
   "cell_type": "code",
   "source": [
    "Y = {'man': {'short_hair': 0.88, 'long_hair': 0.12}, 'woman': {'short_hair': 0.25, 'long_hair': 0.75}}\n",
    "print('Man:', Y['man'])\n",
    "print('Woman:', Y['woman'])\n"
   ],
   "metadata": {
    "cell_id": "f4ee5b568ae24c72ac9d87dc115afefd",
    "collapsed": false,
    "source_hash": "644c4aa7",
    "execution_start": 1667904672510,
    "execution_millis": 1,
    "deepnote_to_be_reexecuted": false,
    "deepnote_cell_type": "code"
   },
   "outputs": [
    {
     "name": "stdout",
     "output_type": "stream",
     "text": [
      "Man: {'short_hair': 0.88, 'long_hair': 0.12}\n",
      "Woman: {'short_hair': 0.25, 'long_hair': 0.75}\n"
     ]
    }
   ],
   "execution_count": 77
  },
  {
   "cell_type": "code",
   "execution_count": 78,
   "outputs": [
    {
     "ename": "SyntaxError",
     "evalue": "invalid syntax (3214540029.py, line 1)",
     "output_type": "error",
     "traceback": [
      "\u001B[1;36m  Input \u001B[1;32mIn [78]\u001B[1;36m\u001B[0m\n\u001B[1;33m    matrix = [ if i == 0 else  for i in X]\u001B[0m\n\u001B[1;37m               ^\u001B[0m\n\u001B[1;31mSyntaxError\u001B[0m\u001B[1;31m:\u001B[0m invalid syntax\n"
     ]
    }
   ],
   "source": [
    "matrix = [ if i == 0 else  for i in X]"
   ],
   "metadata": {
    "collapsed": false
   }
  },
  {
   "cell_type": "markdown",
   "source": [
    "Relationship between X and Y: $f:X→Y$ <=> $P(X∈x,Y∈y) = {P(X∈x|Y∈y) \\over P(X)}$\n",
    "$$P(Y|X) = { P(X|Y)P(Y) \\over \\sum P(X,Y)}$$\n",
    "$$P(Y=2|X=3) = { P(X|Y)P(Y) \\over \\sum P(X,Y)}$$"
   ],
   "metadata": {
    "collapsed": false
   }
  },
  {
   "cell_type": "markdown",
   "source": [
    "$P(X)$"
   ],
   "metadata": {
    "collapsed": false
   }
  },
  {
   "cell_type": "markdown",
   "source": [
    "In supervised learning, we predict outputs y ∈ Y from inputs x ∈ X .\n",
    "The relationship between the two quantities:\n",
    "$ P(X = xi, Y = yi)=P(X=xi)*P(Y=xi) $\n",
    "Joint probability law:\n",
    "$(X, Y ) ∼ ρ$, on X: $fX(x) = P(X=x)= {ΣfXY(x, y)}$, however, ρ is unknown.\n",
    "Conditional law on Y: $fY|x(y)= {fXY(x,y) \\over fX(x)}$ for $fX(x) > 0$, on X: $fX|y(x)={fXY(x,y) \\over fY(y)}$ for $fY(y) > 0$."
   ],
   "metadata": {
    "cell_id": "c6606167b32e495aa0cfdf0cf9287e80",
    "collapsed": false,
    "deepnote_cell_type": "markdown"
   }
  }
 ],
 "nbformat": 4,
 "nbformat_minor": 0,
 "metadata": {
  "deepnote": {},
  "kernelspec": {
   "name": "python3",
   "language": "python",
   "display_name": "Python 3"
  },
  "language_info": {
   "name": "python",
   "version": "2.7.6",
   "mimetype": "text/x-python",
   "file_extension": ".py",
   "pygments_lexer": "ipython2",
   "codemirror_mode": {
    "name": "ipython",
    "version": 2
   },
   "nbconvert_exporter": "python"
  },
  "deepnote_notebook_id": "1860213bd134472fa730231a5a9bee20",
  "deepnote_persisted_session": {
   "createdAt": "2022-11-08T11:16:37.564Z"
  },
  "deepnote_execution_queue": []
 }
}
